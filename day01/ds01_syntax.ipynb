{
 "cells": [
  {
   "cell_type": "code",
   "execution_count": null,
   "metadata": {},
   "outputs": [],
   "source": [
    "# file : de01_syntax.ipynb\n",
    "# desc : 파이썬 기본문법 복습"
   ]
  },
  {
   "cell_type": "markdown",
   "metadata": {},
   "source": [
    "## 자료구조와 알고리즘\n",
    "- 파이썬 기본문법 복습\n",
    "\n",
    "\n",
    "### 1. 콘솔출력\n",
    "print()"
   ]
  },
  {
   "cell_type": "code",
   "execution_count": null,
   "metadata": {},
   "outputs": [],
   "source": [
    "# 코딩 네이밍룰\n",
    "# 변수앞  i를 적으면 정수형, f를 적으면 실수형, s적으면 문자열형, is를 쓰면 Boolean형\n",
    "\n",
    "isBasic = True\n",
    "iMonth = 12\n",
    "fTaxRate = 10.2\n",
    "sMonth = 'December'\n",
    "fTaxRate = 10.2\n",
    "\n",
    "isBasic, iMonth, sMonth, fTaxRagte = False, 1, 'January', 8.8\n",
    "\n",
    "\n"
   ]
  },
  {
   "cell_type": "code",
   "execution_count": null,
   "metadata": {},
   "outputs": [],
   "source": [
    "# 각 변수별 타입확인, 주피터 노트북에서는 변수나 함수만 써서 화면출력 가능\n",
    "# print() \n",
    "print(type(isBasic))\n",
    "type(iMonth), type(sMonth), type(fTaxRagte), type(isBasic)"
   ]
  },
  {
   "cell_type": "code",
   "execution_count": null,
   "metadata": {},
   "outputs": [],
   "source": [
    "# 구식방법\n",
    "# 100출력 방법 100, '100', %d, %100\n",
    "# %d 정수의 출력할건데 % 뒤에 있는 값을 정수형 문자열로 출력하라\n",
    "print('%d' % 100)"
   ]
  },
  {
   "cell_type": "code",
   "execution_count": null,
   "metadata": {},
   "outputs": [],
   "source": [
    "print('%d' %(100+100))"
   ]
  },
  {
   "cell_type": "code",
   "execution_count": null,
   "metadata": {},
   "outputs": [],
   "source": [
    "# 구식 %문자열 포멧엔 2진수가 업음(C언어부터)\n",
    "print('%02d/%s/%.2f/%c/%x/%o'%(iMonth, sMonth, fTaxRagte,'H',255,57))"
   ]
  },
  {
   "cell_type": "code",
   "execution_count": null,
   "metadata": {},
   "outputs": [],
   "source": [
    "# 신식방법 포맷스트링(90년대 경 발전)\n",
    "print('{0}/{1}/{2:2f}/{3}/{4:x}/{5:o}/{6:o}'.format(iMonth, sMonth, fTaxRagte, 'h', 255, 57, 16))"
   ]
  },
  {
   "cell_type": "code",
   "execution_count": null,
   "metadata": {},
   "outputs": [],
   "source": [
    "## 최신식방법 포맷스트링(python 3.6이후 개발)\n",
    "print(f'{iMonth:02d} / {sMonth} / {fTaxRagte:.2f},{\"H\"}/{255:x}/{57:o}/{1023:b}')"
   ]
  },
  {
   "cell_type": "markdown",
   "metadata": {},
   "source": [
    "### 2. 입력\n",
    "- input()"
   ]
  },
  {
   "cell_type": "code",
   "execution_count": null,
   "metadata": {},
   "outputs": [],
   "source": [
    "# 입력은 무조건 문자열(str)\n",
    "x = input()\n",
    "y = input()\n",
    "print(x+y) # 문자열 결합이 됨"
   ]
  },
  {
   "cell_type": "code",
   "execution_count": null,
   "metadata": {},
   "outputs": [],
   "source": [
    "# 입력을 정수로 변경해줘여 함\n",
    "x = int(input())\n",
    "y = int(input())\n",
    "print(x+y)"
   ]
  },
  {
   "cell_type": "code",
   "execution_count": null,
   "metadata": {},
   "outputs": [],
   "source": [
    "# 실수는 float()으로 변환\n",
    "x = float(input())\n",
    "y = float(input())\n",
    "print(x + y)"
   ]
  },
  {
   "cell_type": "code",
   "execution_count": null,
   "metadata": {},
   "outputs": [],
   "source": [
    "## input() 만 쓰면 뭘할지 모르기때문에 내용을 옵션으로 작성\n",
    "x = float(input('첫번째 실수 입력(예3.14)>'))\n",
    "y = float(input('첫번째 실수 입력(예3.14)>'))\n",
    "print(f'{x:.2f} * {y:.2f} = {x * y:.4f}')"
   ]
  },
  {
   "cell_type": "code",
   "execution_count": null,
   "metadata": {},
   "outputs": [],
   "source": [
    "## 입력값이 두개 이상이면 map과 split를 활용할 것\n",
    "x, y = map(float, input('두 실수를 입력(구분자 스페이스) > ').split())\n",
    "print(f'{x:.2f}*{y:.2f}={x*y:.4f}')"
   ]
  },
  {
   "cell_type": "markdown",
   "metadata": {},
   "source": [
    "## 3. 연산자\n",
    "- 사칙연산, 승수, 나머지의 경우 연산자 3개"
   ]
  }
 ],
 "metadata": {
  "language_info": {
   "name": "python"
  }
 },
 "nbformat": 4,
 "nbformat_minor": 2
}
