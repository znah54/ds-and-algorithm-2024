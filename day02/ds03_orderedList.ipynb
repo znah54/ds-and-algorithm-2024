{
 "cells": [
  {
   "cell_type": "code",
   "execution_count": null,
   "metadata": {},
   "outputs": [],
   "source": [
    "#file : ds03_orderedList.ipynb\n",
    "#desc : 선형리스트"
   ]
  },
  {
   "cell_type": "markdown",
   "metadata": {},
   "source": [
    "## 자료구조와 알고리즘\n",
    "\n",
    "- 선형리스트\n",
    "\n",
    "### 1. 선형리스트 개념및 내용\n",
    "- 파이썬의 리스트는 일반적인 프로그래밍(C언어 등)의 배열과 다름\n",
    "- 파이썬의 성능 문제로 배열과 리스트를 리스트 하나로 통합"
   ]
  },
  {
   "cell_type": "code",
   "execution_count": 2,
   "metadata": {},
   "outputs": [],
   "source": [
    "kakaotalk = [200, 150, 90, 30, 15]"
   ]
  },
  {
   "cell_type": "code",
   "execution_count": 3,
   "metadata": {},
   "outputs": [
    {
     "name": "stdout",
     "output_type": "stream",
     "text": [
      "200\n",
      "150\n",
      "90\n",
      "30\n",
      "15\n"
     ]
    }
   ],
   "source": [
    "print(id(kakaotalk[0]))\n",
    "print(kakaotalk[1])\n",
    "print(kakaotalk[2])\n",
    "print(kakaotalk[3])\n",
    "print(kakaotalk[4])\n"
   ]
  },
  {
   "cell_type": "markdown",
   "metadata": {},
   "source": [
    "### 2. 선형리스트 구현\n",
    "- 파이썬에서 실제로 이렇게 복잡하게 할 필요없음\n",
    "- 배열(단순 선형리스트)를 이해하기 위해 만든 예제"
   ]
  },
  {
   "cell_type": "code",
   "execution_count": null,
   "metadata": {},
   "outputs": [],
   "source": [
    "kakaotalk=[] # 빈 배열 생성\n",
    "\n",
    "def add_data(friend):\n",
    "    kakaotalk.append(None) # 배열 빈자리 생성\n",
    "    size = len(kakaotalk) # 배열 전체 크기\n",
    "    kakaotalk[size-1] = friend"
   ]
  },
  {
   "cell_type": "code",
   "execution_count": 5,
   "metadata": {},
   "outputs": [
    {
     "ename": "NameError",
     "evalue": "name 'add_data' is not defined",
     "output_type": "error",
     "traceback": [
      "\u001b[1;31m---------------------------------------------------------------------------\u001b[0m",
      "\u001b[1;31mNameError\u001b[0m                                 Traceback (most recent call last)",
      "Cell \u001b[1;32mIn[5], line 1\u001b[0m\n\u001b[1;32m----> 1\u001b[0m \u001b[43madd_data\u001b[49m(\u001b[38;5;124m'\u001b[39m\u001b[38;5;124ma\u001b[39m\u001b[38;5;124m'\u001b[39m)\n\u001b[0;32m      2\u001b[0m add_data(\u001b[38;5;124m'\u001b[39m\u001b[38;5;124ma\u001b[39m\u001b[38;5;124m'\u001b[39m)\n\u001b[0;32m      3\u001b[0m add_data(\u001b[38;5;124m'\u001b[39m\u001b[38;5;124ma\u001b[39m\u001b[38;5;124m'\u001b[39m)\n",
      "\u001b[1;31mNameError\u001b[0m: name 'add_data' is not defined"
     ]
    }
   ],
   "source": [
    "add_data('a')\n",
    "add_data('b')\n",
    "add_data('c')\n",
    "add_data('d')\n",
    "add_data('e')"
   ]
  },
  {
   "cell_type": "code",
   "execution_count": null,
   "metadata": {},
   "outputs": [],
   "source": [
    "print(kakaotalk)"
   ]
  },
  {
   "cell_type": "code",
   "execution_count": null,
   "metadata": {},
   "outputs": [],
   "source": [
    "# 데이터 삽입함수\n",
    "def insert_data(pos, friend):\n",
    "    if pos < 0 or pos > len(kakaotalk):\n",
    "        print('데이터 삽입범위 초과')\n",
    "        return # 함수를 빠져나감\n",
    "    \n",
    "# 정상적인 처리시작\n",
    "    kakaotalk.append(None) # 빈칸추가\n",
    "    size=len(kakaotalk) # 배열 현재 크기\n",
    "    # 데이터 삽입 위치 데이터 하나씩 뒤로 보냄\n",
    "    for i in range(size-1, pos, -1): # 역순으로 맨뒤에서 부터\n",
    "        kakaotalk[i] = kakaotalk[i-1]\n",
    "        kakaotalk[i-1] = None\n",
    "    kakaotalk[pos] = friend\n"
   ]
  },
  {
   "cell_type": "code",
   "execution_count": null,
   "metadata": {},
   "outputs": [],
   "source": [
    "# 데이터 삽입 현재(5) ['a','b','c','d','e']\n",
    "\n",
    "insert_data(2,'f')\n",
    "print(kakaotalk)"
   ]
  },
  {
   "cell_type": "code",
   "execution_count": null,
   "metadata": {},
   "outputs": [],
   "source": [
    "## 데이터 삭제\n",
    "def delete_data(pos): # 데이터 삭제시는 위치값만\n",
    "    if pos < 0 or pos > len(kakaotalk):\n",
    "        print('데이터 삽입범위 초과')\n",
    "        return\n",
    "    \n",
    "    size = len(kakaotalk)\n",
    "    kakaotalk[pos] = None # 데이터 삭제\n",
    "\n",
    "    for i in range(pos+1, size):\n",
    "        kakaotalk[i-1] = kakaotalk[i] # 뒤에 값을 앞으로\n",
    "        kakaotalk[i] = None\n",
    "\n",
    "    del(kakaotalk[size-1]) # 배열 마지막값 삭제"
   ]
  },
  {
   "cell_type": "code",
   "execution_count": null,
   "metadata": {},
   "outputs": [],
   "source": [
    "## 위치값 삭제\n",
    "delete_data(3)\n",
    "print(kakaotalk)"
   ]
  }
 ],
 "metadata": {
  "kernelspec": {
   "display_name": "Python 3",
   "language": "python",
   "name": "python3"
  },
  "language_info": {
   "codemirror_mode": {
    "name": "ipython",
    "version": 3
   },
   "file_extension": ".py",
   "mimetype": "text/x-python",
   "name": "python",
   "nbconvert_exporter": "python",
   "pygments_lexer": "ipython3",
   "version": "3.11.5"
  }
 },
 "nbformat": 4,
 "nbformat_minor": 2
}
