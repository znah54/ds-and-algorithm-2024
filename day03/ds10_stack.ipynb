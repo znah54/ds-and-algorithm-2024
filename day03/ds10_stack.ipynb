{
 "cells": [
  {
   "cell_type": "code",
   "execution_count": null,
   "metadata": {},
   "outputs": [],
   "source": [
    "#file : ds10_stack.ipynb\n",
    "#desc : 스택 학습 노트북\n",
    "\n"
   ]
  },
  {
   "cell_type": "markdown",
   "metadata": {},
   "source": [
    "### 자료구조와 알고리즘\n",
    "\n",
    "- 스택\n",
    "\n",
    "![stack](https://www.google.com/url?sa=i&url=https%3A%2F%2Fthenicesj.tistory.com%2F314&psig=AOvVaw3FeFu1-EwZQx3iI6-tO3fS&ust=1707974421882000&source=images&cd=vfe&opi=89978449&ved=0CBIQjRxqFwoTCJCrttiKqoQDFQAAAAAdAAAAABAI)\n",
    "\n",
    "## 스택"
   ]
  },
  {
   "cell_type": "code",
   "execution_count": 1,
   "metadata": {},
   "outputs": [],
   "source": [
    "# 스택 선언\n",
    "stack =[None for _ in range(5)]\n",
    "top = -1"
   ]
  },
  {
   "cell_type": "markdown",
   "metadata": {},
   "source": [
    "2. push"
   ]
  },
  {
   "cell_type": "code",
   "execution_count": 2,
   "metadata": {},
   "outputs": [],
   "source": [
    "top += 1\n",
    "stack[top] = '커피'\n",
    "top += 1#1\n",
    "stack[top] = '녹차'\n",
    "top += 1 \n",
    "stack[top] = '꿀물'"
   ]
  },
  {
   "cell_type": "code",
   "execution_count": 3,
   "metadata": {},
   "outputs": [
    {
     "data": {
      "text/plain": [
       "['커피', '녹차', '꿀물', None, None]"
      ]
     },
     "execution_count": 3,
     "metadata": {},
     "output_type": "execute_result"
    }
   ],
   "source": [
    "stack"
   ]
  },
  {
   "cell_type": "code",
   "execution_count": 4,
   "metadata": {},
   "outputs": [
    {
     "name": "stdout",
     "output_type": "stream",
     "text": [
      "현재 스택\n",
      "None\n",
      "None\n",
      "꿀물\n",
      "녹차\n",
      "커피\n"
     ]
    }
   ],
   "source": [
    "print ('현재 스택')\n",
    "for i in range(len(stack)-1,-1,-1): #4~0 역순으로\n",
    "    print(stack[i])"
   ]
  },
  {
   "cell_type": "markdown",
   "metadata": {},
   "source": [
    "3. Pop"
   ]
  },
  {
   "cell_type": "code",
   "execution_count": 5,
   "metadata": {},
   "outputs": [
    {
     "name": "stdout",
     "output_type": "stream",
     "text": [
      "꿀물\n"
     ]
    }
   ],
   "source": [
    "data = stack[top]\n",
    "stack[top] = None\n",
    "top -= 1\n",
    "print(data)"
   ]
  },
  {
   "cell_type": "code",
   "execution_count": 6,
   "metadata": {},
   "outputs": [
    {
     "name": "stdout",
     "output_type": "stream",
     "text": [
      "현재 스택\n",
      "None\n",
      "None\n",
      "None\n",
      "녹차\n",
      "커피\n"
     ]
    }
   ],
   "source": [
    "print ('현재 스택')\n",
    "for i in range(len(stack)-1,-1,-1): #4~0 역순으로\n",
    "    print(stack[i])"
   ]
  },
  {
   "cell_type": "code",
   "execution_count": 7,
   "metadata": {},
   "outputs": [
    {
     "name": "stdout",
     "output_type": "stream",
     "text": [
      "녹차\n"
     ]
    }
   ],
   "source": [
    "data = stack[top]\n",
    "stack[top] = None\n",
    "top -= 1\n",
    "print(data)"
   ]
  },
  {
   "cell_type": "code",
   "execution_count": 8,
   "metadata": {},
   "outputs": [
    {
     "name": "stdout",
     "output_type": "stream",
     "text": [
      "현재 스택\n",
      "None\n",
      "None\n",
      "None\n",
      "None\n",
      "커피\n"
     ]
    }
   ],
   "source": [
    "print ('현재 스택')\n",
    "for i in range(len(stack)-1,-1,-1): #4~0 역순으로\n",
    "    print(stack[i])"
   ]
  },
  {
   "cell_type": "code",
   "execution_count": 9,
   "metadata": {},
   "outputs": [
    {
     "name": "stdout",
     "output_type": "stream",
     "text": [
      "커피\n"
     ]
    }
   ],
   "source": [
    "data = stack[top]\n",
    "stack[top] = None\n",
    "top -= 1\n",
    "print(data)"
   ]
  },
  {
   "cell_type": "code",
   "execution_count": 10,
   "metadata": {},
   "outputs": [
    {
     "name": "stdout",
     "output_type": "stream",
     "text": [
      "현재 스택\n",
      "None\n",
      "None\n",
      "None\n",
      "None\n",
      "None\n"
     ]
    }
   ],
   "source": [
    "print ('현재 스택')\n",
    "for i in range(len(stack)-1,-1,-1): #4~0 역순으로\n",
    "    print(stack[i])"
   ]
  },
  {
   "cell_type": "code",
   "execution_count": 11,
   "metadata": {},
   "outputs": [
    {
     "name": "stdout",
     "output_type": "stream",
     "text": [
      "스택이 모두 비었습니다\n"
     ]
    }
   ],
   "source": [
    "if top <= -1:\n",
    "    print('스택이 모두 비었습니다')\n"
   ]
  },
  {
   "cell_type": "markdown",
   "metadata": {},
   "source": [
    "### 스택 일반 구현"
   ]
  },
  {
   "cell_type": "code",
   "execution_count": 12,
   "metadata": {},
   "outputs": [],
   "source": [
    "SIZE = 5\n",
    "stack = [None for _ in range(SIZE)]\n",
    "top = -1"
   ]
  },
  {
   "cell_type": "markdown",
   "metadata": {},
   "source": [
    "###"
   ]
  },
  {
   "cell_type": "code",
   "execution_count": 13,
   "metadata": {},
   "outputs": [
    {
     "data": {
      "text/plain": [
       "[None, None, None, None, None]"
      ]
     },
     "execution_count": 13,
     "metadata": {},
     "output_type": "execute_result"
    }
   ],
   "source": [
    "stack"
   ]
  },
  {
   "cell_type": "markdown",
   "metadata": {},
   "source": [
    "1. 스택 상태확인 함수 isStackFull()"
   ]
  },
  {
   "cell_type": "code",
   "execution_count": 18,
   "metadata": {},
   "outputs": [],
   "source": [
    "def isStackFull():\n",
    "    global SIZE, stack, top\n",
    "    if top == (SIZE -1):\n",
    "        return True\n",
    "    else:\n",
    "        return False"
   ]
  },
  {
   "cell_type": "code",
   "execution_count": 19,
   "metadata": {},
   "outputs": [
    {
     "data": {
      "text/plain": [
       "False"
      ]
     },
     "execution_count": 19,
     "metadata": {},
     "output_type": "execute_result"
    }
   ],
   "source": [
    "isStackFull()"
   ]
  },
  {
   "cell_type": "markdown",
   "metadata": {},
   "source": [
    "2. push 함수"
   ]
  },
  {
   "cell_type": "code",
   "execution_count": 22,
   "metadata": {},
   "outputs": [],
   "source": [
    "def push(data):\n",
    "    global SIZE, stack, top\n",
    "    if isStackFull() == True:\n",
    "        print('스택이 꽉찼습니다.')\n",
    "        return\n",
    "    else:\n",
    "        top += 1\n",
    "        stack[top] = data"
   ]
  },
  {
   "cell_type": "code",
   "execution_count": 23,
   "metadata": {},
   "outputs": [],
   "source": [
    "push('커피')\n",
    "push('녹차')\n",
    "push('꿀물')\n",
    "push('환타')\n",
    "push('콜라')"
   ]
  },
  {
   "cell_type": "code",
   "execution_count": 24,
   "metadata": {},
   "outputs": [
    {
     "data": {
      "text/plain": [
       "['커피', '녹차', '꿀물', '환타', '콜라']"
      ]
     },
     "execution_count": 24,
     "metadata": {},
     "output_type": "execute_result"
    }
   ],
   "source": [
    "stack"
   ]
  },
  {
   "cell_type": "code",
   "execution_count": 25,
   "metadata": {},
   "outputs": [
    {
     "name": "stdout",
     "output_type": "stream",
     "text": [
      "스택이 꽉찼습니다.\n"
     ]
    }
   ],
   "source": [
    "push('사이다')"
   ]
  },
  {
   "cell_type": "code",
   "execution_count": 26,
   "metadata": {},
   "outputs": [
    {
     "data": {
      "text/plain": [
       "['커피', '녹차', '꿀물', '환타', '콜라']"
      ]
     },
     "execution_count": 26,
     "metadata": {},
     "output_type": "execute_result"
    }
   ],
   "source": [
    "stack"
   ]
  },
  {
   "cell_type": "code",
   "execution_count": 28,
   "metadata": {},
   "outputs": [],
   "source": [
    "def isStackEmpty():\n",
    "    global SIZE, stack, top\n",
    "    if top <= -1:\n",
    "        return True # 스택이 비었음\n",
    "    else:\n",
    "        return False"
   ]
  },
  {
   "cell_type": "code",
   "execution_count": 29,
   "metadata": {},
   "outputs": [
    {
     "data": {
      "text/plain": [
       "False"
      ]
     },
     "execution_count": 29,
     "metadata": {},
     "output_type": "execute_result"
    }
   ],
   "source": [
    "isStackEmpty()"
   ]
  },
  {
   "cell_type": "markdown",
   "metadata": {},
   "source": [
    "4. pop함수"
   ]
  },
  {
   "cell_type": "code",
   "execution_count": 30,
   "metadata": {},
   "outputs": [],
   "source": [
    "def pop():\n",
    "    global SIZE, stack, top\n",
    "    if isStackEmpty() == True:\n",
    "        print('스택이 비었습니다')\n",
    "        return None\n",
    "    else:\n",
    "        data = stack[top]\n",
    "        stack[top] = None\n",
    "        top -= 1\n",
    "        return data"
   ]
  },
  {
   "cell_type": "code",
   "execution_count": 35,
   "metadata": {},
   "outputs": [
    {
     "name": "stdout",
     "output_type": "stream",
     "text": [
      "스택이 비었습니다\n",
      "None\n",
      "스택이 비었습니다\n",
      "None\n",
      "스택이 비었습니다\n",
      "None\n",
      "스택이 비었습니다\n",
      "None\n",
      "스택이 비었습니다\n",
      "None\n"
     ]
    }
   ],
   "source": [
    "print(pop())\n",
    "print(pop())\n",
    "print(pop())\n",
    "print(pop())\n",
    "print(pop())"
   ]
  },
  {
   "cell_type": "markdown",
   "metadata": {},
   "source": [
    "5. peek 함수\n",
    "- pop() 처럼 데이터를 꺼내지 않고 top 무슨 데이터가 있는지 확인만 하는 함수"
   ]
  },
  {
   "cell_type": "code",
   "execution_count": 36,
   "metadata": {},
   "outputs": [],
   "source": [
    "def peek():\n",
    "    global stack, top\n",
    "    if isStackEmpty() == True:\n",
    "        print('스택이 비어있습니다')\n",
    "        return None\n",
    "    else:\n",
    "        return stack[top]"
   ]
  },
  {
   "cell_type": "code",
   "execution_count": 37,
   "metadata": {},
   "outputs": [
    {
     "name": "stdout",
     "output_type": "stream",
     "text": [
      "스택이 비어있습니다\n",
      "None\n"
     ]
    }
   ],
   "source": [
    "print(peek())"
   ]
  },
  {
   "cell_type": "code",
   "execution_count": 38,
   "metadata": {},
   "outputs": [],
   "source": [
    "push('물')\n",
    "push('미숫가루')\n",
    "push('보리차')"
   ]
  },
  {
   "cell_type": "code",
   "execution_count": 39,
   "metadata": {},
   "outputs": [
    {
     "name": "stdout",
     "output_type": "stream",
     "text": [
      "보리차\n"
     ]
    }
   ],
   "source": [
    "print(peek())"
   ]
  },
  {
   "cell_type": "code",
   "execution_count": 40,
   "metadata": {},
   "outputs": [
    {
     "data": {
      "text/plain": [
       "['물', '미숫가루', '보리차', None, None]"
      ]
     },
     "execution_count": 40,
     "metadata": {},
     "output_type": "execute_result"
    }
   ],
   "source": [
    "stack"
   ]
  },
  {
   "cell_type": "code",
   "execution_count": null,
   "metadata": {},
   "outputs": [],
   "source": [
    "m"
   ]
  }
 ],
 "metadata": {
  "kernelspec": {
   "display_name": "Python 3",
   "language": "python",
   "name": "python3"
  },
  "language_info": {
   "codemirror_mode": {
    "name": "ipython",
    "version": 3
   },
   "file_extension": ".py",
   "mimetype": "text/x-python",
   "name": "python",
   "nbconvert_exporter": "python",
   "pygments_lexer": "ipython3",
   "version": "3.11.5"
  }
 },
 "nbformat": 4,
 "nbformat_minor": 2
}
