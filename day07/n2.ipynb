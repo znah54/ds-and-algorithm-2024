{
 "cells": [
  {
   "cell_type": "code",
   "execution_count": 2,
   "metadata": {},
   "outputs": [],
   "source": [
    "def isQueueFull():\n",
    "    global SIZE, rear, front, rear\n",
    "    if(rear==SIZE-1):\n",
    "        return True\n",
    "    else:\n",
    "        return False"
   ]
  },
  {
   "cell_type": "code",
   "execution_count": 1,
   "metadata": {},
   "outputs": [],
   "source": [
    "def isQueueEmpty():\n",
    "    global SIZE, rear, front, rear\n",
    "    if front == rear:\n",
    "        return True\n",
    "    else:\n",
    "        return False"
   ]
  },
  {
   "cell_type": "code",
   "execution_count": 3,
   "metadata": {},
   "outputs": [],
   "source": [
    "def enQueue(data):\n",
    "    global SIZE, rear, front, rear\n",
    "    if isQueueFull() == True: \n",
    "        print('대기줄이 꽉찼습니다')\n",
    "        return \n",
    "    else:\n",
    "        rear += 1\n",
    "        queue[rear] = data "
   ]
  },
  {
   "cell_type": "code",
   "execution_count": 4,
   "metadata": {},
   "outputs": [],
   "source": [
    "def deQueue():\n",
    "    global SIZE, rear, front, rear\n",
    "    if(isQueueEmpty()):\n",
    "        print(\"대기줄이 비었습니다.\")\n",
    "        return None\n",
    "    else:\n",
    "        front += 1\n",
    "        data = queue[front]\n",
    "        queue[front] = None\n",
    "        \n",
    "        for i in range(front+1, rear+1):\n",
    "            queue[i-1] =queue[i]\n",
    "            queue[i] = None\n",
    "        front = -1\n",
    "        rear = -1\n",
    "\n",
    "        return data\n"
   ]
  },
  {
   "cell_type": "code",
   "execution_count": null,
   "metadata": {},
   "outputs": [],
   "source": []
  }
 ],
 "metadata": {
  "kernelspec": {
   "display_name": "Python 3",
   "language": "python",
   "name": "python3"
  },
  "language_info": {
   "codemirror_mode": {
    "name": "ipython",
    "version": 3
   },
   "file_extension": ".py",
   "mimetype": "text/x-python",
   "name": "python",
   "nbconvert_exporter": "python",
   "pygments_lexer": "ipython3",
   "version": "3.11.5"
  }
 },
 "nbformat": 4,
 "nbformat_minor": 2
}
