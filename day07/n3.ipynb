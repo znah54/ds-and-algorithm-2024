{
 "cells": [
  {
   "cell_type": "code",
   "execution_count": null,
   "metadata": {},
   "outputs": [],
   "source": [
    "import random\n",
    "class TreeNode():\n",
    "    left = None\n",
    "    data = None\n",
    "    right = None\n",
    "\n",
    "    def __init__(self) -> None:\n",
    "        self.left = self.right = self.data = None\n",
    "    def insert(self, value):\n",
    "        pass"
   ]
  },
  {
   "cell_type": "code",
   "execution_count": null,
   "metadata": {},
   "outputs": [],
   "source": [
    "def preorder(node):\n",
    "    if node == None:\n",
    "        return\n",
    "    print(node.data, end='')\n",
    "    preorder(node.left)\n",
    "    preorder(node.right)\n"
   ]
  },
  {
   "cell_type": "code",
   "execution_count": null,
   "metadata": {},
   "outputs": [],
   "source": [
    "memory = []\n",
    "root = None\n",
    "groupList = []\n",
    "groupList.insert()\n",
    "\n",
    "print('오늘 판매된 물건(중복0) -->', groupList)"
   ]
  },
  {
   "cell_type": "code",
   "execution_count": null,
   "metadata": {},
   "outputs": [],
   "source": [
    "node  =TreeNode()\n",
    "node.data =groupList[0]\n",
    "root = node\n",
    "memory.append(node)\n"
   ]
  },
  {
   "cell_type": "code",
   "execution_count": null,
   "metadata": {},
   "outputs": [],
   "source": [
    "for name in groupList[1:]:\n",
    "\n",
    "    node = TreeNode()\n",
    "    node.data = name\n",
    "\n",
    "    curr = root\n",
    "    while True:\n",
    "        if name < curr.data: \n",
    "            if curr.left == None: \n",
    "                curr.left = node\n",
    "                break \n",
    "            else:\n",
    "                if curr.right == None:\n",
    "                    curr.right == node\n",
    "                    break\n",
    "                else:\n",
    "                    curr = curr.right\n"
   ]
  },
  {
   "cell_type": "code",
   "execution_count": null,
   "metadata": {},
   "outputs": [],
   "source": [
    "print('오늘 판매된 종류(중복X) -->', end = '')\n",
    "preorder(root)"
   ]
  }
 ],
 "metadata": {
  "language_info": {
   "name": "python"
  }
 },
 "nbformat": 4,
 "nbformat_minor": 2
}
